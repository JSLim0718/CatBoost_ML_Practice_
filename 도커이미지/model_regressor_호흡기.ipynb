{
 "cells": [
  {
   "cell_type": "code",
   "execution_count": 18,
   "outputs": [
    {
     "name": "stdout",
     "output_type": "stream",
     "text": [
      "Requirement already satisfied: jupyter==1.0.0 in c:\\users\\sweetk\\anaconda3\\envs\\p38_health\\lib\\site-packages (from -r requirements.txt (line 1)) (1.0.0)\n",
      "Requirement already satisfied: catboost==1.1.1 in c:\\users\\sweetk\\anaconda3\\envs\\p38_health\\lib\\site-packages (from -r requirements.txt (line 2)) (1.1.1)\n",
      "Requirement already satisfied: pandas==1.5.1 in c:\\users\\sweetk\\anaconda3\\envs\\p38_health\\lib\\site-packages (from -r requirements.txt (line 3)) (1.5.1)\n",
      "Requirement already satisfied: numpy==1.23.4 in c:\\users\\sweetk\\anaconda3\\envs\\p38_health\\lib\\site-packages (from -r requirements.txt (line 4)) (1.23.4)\n",
      "Requirement already satisfied: ipykernel in c:\\users\\sweetk\\anaconda3\\envs\\p38_health\\lib\\site-packages (from jupyter==1.0.0->-r requirements.txt (line 1)) (6.16.1)\n",
      "Requirement already satisfied: jupyter-console in c:\\users\\sweetk\\anaconda3\\envs\\p38_health\\lib\\site-packages (from jupyter==1.0.0->-r requirements.txt (line 1)) (6.4.4)\n",
      "Requirement already satisfied: ipywidgets in c:\\users\\sweetk\\anaconda3\\envs\\p38_health\\lib\\site-packages (from jupyter==1.0.0->-r requirements.txt (line 1)) (8.0.2)\n",
      "Requirement already satisfied: notebook in c:\\users\\sweetk\\anaconda3\\envs\\p38_health\\lib\\site-packages (from jupyter==1.0.0->-r requirements.txt (line 1)) (6.5.1)\n",
      "Requirement already satisfied: qtconsole in c:\\users\\sweetk\\anaconda3\\envs\\p38_health\\lib\\site-packages (from jupyter==1.0.0->-r requirements.txt (line 1)) (5.3.2)\n",
      "Requirement already satisfied: nbconvert in c:\\users\\sweetk\\anaconda3\\envs\\p38_health\\lib\\site-packages (from jupyter==1.0.0->-r requirements.txt (line 1)) (7.2.2)\n",
      "Requirement already satisfied: six in c:\\users\\sweetk\\anaconda3\\envs\\p38_health\\lib\\site-packages (from catboost==1.1.1->-r requirements.txt (line 2)) (1.16.0)\n",
      "Requirement already satisfied: matplotlib in c:\\users\\sweetk\\anaconda3\\envs\\p38_health\\lib\\site-packages (from catboost==1.1.1->-r requirements.txt (line 2)) (3.6.2)\n",
      "Requirement already satisfied: scipy in c:\\users\\sweetk\\anaconda3\\envs\\p38_health\\lib\\site-packages (from catboost==1.1.1->-r requirements.txt (line 2)) (1.8.1)\n",
      "Requirement already satisfied: graphviz in c:\\users\\sweetk\\anaconda3\\envs\\p38_health\\lib\\site-packages (from catboost==1.1.1->-r requirements.txt (line 2)) (0.20.1)\n",
      "Requirement already satisfied: plotly in c:\\users\\sweetk\\anaconda3\\envs\\p38_health\\lib\\site-packages (from catboost==1.1.1->-r requirements.txt (line 2)) (5.11.0)\n",
      "Requirement already satisfied: python-dateutil>=2.8.1 in c:\\users\\sweetk\\anaconda3\\envs\\p38_health\\lib\\site-packages (from pandas==1.5.1->-r requirements.txt (line 3)) (2.8.2)\n",
      "Requirement already satisfied: pytz>=2020.1 in c:\\users\\sweetk\\anaconda3\\envs\\p38_health\\lib\\site-packages (from pandas==1.5.1->-r requirements.txt (line 3)) (2022.5)\n",
      "Requirement already satisfied: psutil in c:\\users\\sweetk\\anaconda3\\envs\\p38_health\\lib\\site-packages (from ipykernel->jupyter==1.0.0->-r requirements.txt (line 1)) (5.9.3)\n",
      "Requirement already satisfied: matplotlib-inline>=0.1 in c:\\users\\sweetk\\anaconda3\\envs\\p38_health\\lib\\site-packages (from ipykernel->jupyter==1.0.0->-r requirements.txt (line 1)) (0.1.6)\n",
      "Requirement already satisfied: nest-asyncio in c:\\users\\sweetk\\anaconda3\\envs\\p38_health\\lib\\site-packages (from ipykernel->jupyter==1.0.0->-r requirements.txt (line 1)) (1.5.6)\n",
      "Requirement already satisfied: jupyter-client>=6.1.12 in c:\\users\\sweetk\\anaconda3\\envs\\p38_health\\lib\\site-packages (from ipykernel->jupyter==1.0.0->-r requirements.txt (line 1)) (7.4.3)\n",
      "Requirement already satisfied: ipython>=7.23.1 in c:\\users\\sweetk\\anaconda3\\envs\\p38_health\\lib\\site-packages (from ipykernel->jupyter==1.0.0->-r requirements.txt (line 1)) (8.5.0)\n",
      "Requirement already satisfied: traitlets>=5.1.0 in c:\\users\\sweetk\\anaconda3\\envs\\p38_health\\lib\\site-packages (from ipykernel->jupyter==1.0.0->-r requirements.txt (line 1)) (5.5.0)\n",
      "Requirement already satisfied: pyzmq>=17 in c:\\users\\sweetk\\anaconda3\\envs\\p38_health\\lib\\site-packages (from ipykernel->jupyter==1.0.0->-r requirements.txt (line 1)) (24.0.1)\n",
      "Requirement already satisfied: packaging in c:\\users\\sweetk\\anaconda3\\envs\\p38_health\\lib\\site-packages (from ipykernel->jupyter==1.0.0->-r requirements.txt (line 1)) (21.3)\n",
      "Requirement already satisfied: tornado>=6.1 in c:\\users\\sweetk\\anaconda3\\envs\\p38_health\\lib\\site-packages (from ipykernel->jupyter==1.0.0->-r requirements.txt (line 1)) (6.2)\n",
      "Requirement already satisfied: debugpy>=1.0 in c:\\users\\sweetk\\anaconda3\\envs\\p38_health\\lib\\site-packages (from ipykernel->jupyter==1.0.0->-r requirements.txt (line 1)) (1.6.3)\n",
      "Requirement already satisfied: jupyterlab-widgets~=3.0 in c:\\users\\sweetk\\anaconda3\\envs\\p38_health\\lib\\site-packages (from ipywidgets->jupyter==1.0.0->-r requirements.txt (line 1)) (3.0.3)\n",
      "Requirement already satisfied: widgetsnbextension~=4.0 in c:\\users\\sweetk\\anaconda3\\envs\\p38_health\\lib\\site-packages (from ipywidgets->jupyter==1.0.0->-r requirements.txt (line 1)) (4.0.3)\n",
      "Requirement already satisfied: prompt-toolkit!=3.0.0,!=3.0.1,<3.1.0,>=2.0.0 in c:\\users\\sweetk\\anaconda3\\envs\\p38_health\\lib\\site-packages (from jupyter-console->jupyter==1.0.0->-r requirements.txt (line 1)) (3.0.31)\n",
      "Requirement already satisfied: pygments in c:\\users\\sweetk\\anaconda3\\envs\\p38_health\\lib\\site-packages (from jupyter-console->jupyter==1.0.0->-r requirements.txt (line 1)) (2.13.0)\n",
      "Requirement already satisfied: fonttools>=4.22.0 in c:\\users\\sweetk\\anaconda3\\envs\\p38_health\\lib\\site-packages (from matplotlib->catboost==1.1.1->-r requirements.txt (line 2)) (4.38.0)\n",
      "Requirement already satisfied: pillow>=6.2.0 in c:\\users\\sweetk\\anaconda3\\envs\\p38_health\\lib\\site-packages (from matplotlib->catboost==1.1.1->-r requirements.txt (line 2)) (9.3.0)\n",
      "Requirement already satisfied: pyparsing>=2.2.1 in c:\\users\\sweetk\\anaconda3\\envs\\p38_health\\lib\\site-packages (from matplotlib->catboost==1.1.1->-r requirements.txt (line 2)) (3.0.9)\n",
      "Requirement already satisfied: kiwisolver>=1.0.1 in c:\\users\\sweetk\\anaconda3\\envs\\p38_health\\lib\\site-packages (from matplotlib->catboost==1.1.1->-r requirements.txt (line 2)) (1.4.4)\n",
      "Requirement already satisfied: cycler>=0.10 in c:\\users\\sweetk\\anaconda3\\envs\\p38_health\\lib\\site-packages (from matplotlib->catboost==1.1.1->-r requirements.txt (line 2)) (0.11.0)\n",
      "Requirement already satisfied: contourpy>=1.0.1 in c:\\users\\sweetk\\anaconda3\\envs\\p38_health\\lib\\site-packages (from matplotlib->catboost==1.1.1->-r requirements.txt (line 2)) (1.0.6)\n",
      "Requirement already satisfied: nbformat>=5.1 in c:\\users\\sweetk\\anaconda3\\envs\\p38_health\\lib\\site-packages (from nbconvert->jupyter==1.0.0->-r requirements.txt (line 1)) (5.7.0)\n",
      "Requirement already satisfied: tinycss2 in c:\\users\\sweetk\\anaconda3\\envs\\p38_health\\lib\\site-packages (from nbconvert->jupyter==1.0.0->-r requirements.txt (line 1)) (1.2.1)\n",
      "Requirement already satisfied: defusedxml in c:\\users\\sweetk\\anaconda3\\envs\\p38_health\\lib\\site-packages (from nbconvert->jupyter==1.0.0->-r requirements.txt (line 1)) (0.7.1)\n",
      "Requirement already satisfied: jupyter-core>=4.7 in c:\\users\\sweetk\\anaconda3\\envs\\p38_health\\lib\\site-packages (from nbconvert->jupyter==1.0.0->-r requirements.txt (line 1)) (4.11.2)\n",
      "Requirement already satisfied: pandocfilters>=1.4.1 in c:\\users\\sweetk\\anaconda3\\envs\\p38_health\\lib\\site-packages (from nbconvert->jupyter==1.0.0->-r requirements.txt (line 1)) (1.5.0)\n",
      "Requirement already satisfied: bleach in c:\\users\\sweetk\\anaconda3\\envs\\p38_health\\lib\\site-packages (from nbconvert->jupyter==1.0.0->-r requirements.txt (line 1)) (5.0.1)\n",
      "Requirement already satisfied: jupyterlab-pygments in c:\\users\\sweetk\\anaconda3\\envs\\p38_health\\lib\\site-packages (from nbconvert->jupyter==1.0.0->-r requirements.txt (line 1)) (0.2.2)\n",
      "Requirement already satisfied: jinja2>=3.0 in c:\\users\\sweetk\\anaconda3\\envs\\p38_health\\lib\\site-packages (from nbconvert->jupyter==1.0.0->-r requirements.txt (line 1)) (3.1.2)\n",
      "Requirement already satisfied: importlib-metadata>=3.6 in c:\\users\\sweetk\\anaconda3\\envs\\p38_health\\lib\\site-packages (from nbconvert->jupyter==1.0.0->-r requirements.txt (line 1)) (4.13.0)\n",
      "Requirement already satisfied: beautifulsoup4 in c:\\users\\sweetk\\anaconda3\\envs\\p38_health\\lib\\site-packages (from nbconvert->jupyter==1.0.0->-r requirements.txt (line 1)) (4.11.1)\n",
      "Requirement already satisfied: markupsafe>=2.0 in c:\\users\\sweetk\\anaconda3\\envs\\p38_health\\lib\\site-packages (from nbconvert->jupyter==1.0.0->-r requirements.txt (line 1)) (2.1.1)\n",
      "Requirement already satisfied: mistune<3,>=2.0.3 in c:\\users\\sweetk\\anaconda3\\envs\\p38_health\\lib\\site-packages (from nbconvert->jupyter==1.0.0->-r requirements.txt (line 1)) (2.0.4)\n",
      "Requirement already satisfied: nbclient>=0.5.0 in c:\\users\\sweetk\\anaconda3\\envs\\p38_health\\lib\\site-packages (from nbconvert->jupyter==1.0.0->-r requirements.txt (line 1)) (0.7.0)\n",
      "Requirement already satisfied: argon2-cffi in c:\\users\\sweetk\\anaconda3\\envs\\p38_health\\lib\\site-packages (from notebook->jupyter==1.0.0->-r requirements.txt (line 1)) (21.3.0)\n",
      "Requirement already satisfied: ipython-genutils in c:\\users\\sweetk\\anaconda3\\envs\\p38_health\\lib\\site-packages (from notebook->jupyter==1.0.0->-r requirements.txt (line 1)) (0.2.0)\n",
      "Requirement already satisfied: Send2Trash>=1.8.0 in c:\\users\\sweetk\\anaconda3\\envs\\p38_health\\lib\\site-packages (from notebook->jupyter==1.0.0->-r requirements.txt (line 1)) (1.8.0)\n",
      "Requirement already satisfied: nbclassic==0.4.5 in c:\\users\\sweetk\\anaconda3\\envs\\p38_health\\lib\\site-packages (from notebook->jupyter==1.0.0->-r requirements.txt (line 1)) (0.4.5)\n",
      "Requirement already satisfied: prometheus-client in c:\\users\\sweetk\\anaconda3\\envs\\p38_health\\lib\\site-packages (from notebook->jupyter==1.0.0->-r requirements.txt (line 1)) (0.15.0)\n",
      "Requirement already satisfied: terminado>=0.8.3 in c:\\users\\sweetk\\anaconda3\\envs\\p38_health\\lib\\site-packages (from notebook->jupyter==1.0.0->-r requirements.txt (line 1)) (0.16.0)\n",
      "Requirement already satisfied: jupyter-server>=1.8 in c:\\users\\sweetk\\anaconda3\\envs\\p38_health\\lib\\site-packages (from nbclassic==0.4.5->notebook->jupyter==1.0.0->-r requirements.txt (line 1)) (1.21.0)\n",
      "Requirement already satisfied: notebook-shim>=0.1.0 in c:\\users\\sweetk\\anaconda3\\envs\\p38_health\\lib\\site-packages (from nbclassic==0.4.5->notebook->jupyter==1.0.0->-r requirements.txt (line 1)) (0.2.0)\n",
      "Requirement already satisfied: tenacity>=6.2.0 in c:\\users\\sweetk\\anaconda3\\envs\\p38_health\\lib\\site-packages (from plotly->catboost==1.1.1->-r requirements.txt (line 2)) (8.1.0)\n",
      "Requirement already satisfied: qtpy>=2.0.1 in c:\\users\\sweetk\\anaconda3\\envs\\p38_health\\lib\\site-packages (from qtconsole->jupyter==1.0.0->-r requirements.txt (line 1)) (2.2.1)\n",
      "Requirement already satisfied: zipp>=0.5 in c:\\users\\sweetk\\anaconda3\\envs\\p38_health\\lib\\site-packages (from importlib-metadata>=3.6->nbconvert->jupyter==1.0.0->-r requirements.txt (line 1)) (3.10.0)\n",
      "Requirement already satisfied: stack-data in c:\\users\\sweetk\\anaconda3\\envs\\p38_health\\lib\\site-packages (from ipython>=7.23.1->ipykernel->jupyter==1.0.0->-r requirements.txt (line 1)) (0.5.1)\n",
      "Requirement already satisfied: jedi>=0.16 in c:\\users\\sweetk\\anaconda3\\envs\\p38_health\\lib\\site-packages (from ipython>=7.23.1->ipykernel->jupyter==1.0.0->-r requirements.txt (line 1)) (0.18.1)\n",
      "Requirement already satisfied: pickleshare in c:\\users\\sweetk\\anaconda3\\envs\\p38_health\\lib\\site-packages (from ipython>=7.23.1->ipykernel->jupyter==1.0.0->-r requirements.txt (line 1)) (0.7.5)\n",
      "Requirement already satisfied: colorama in c:\\users\\sweetk\\anaconda3\\envs\\p38_health\\lib\\site-packages (from ipython>=7.23.1->ipykernel->jupyter==1.0.0->-r requirements.txt (line 1)) (0.4.6)\n",
      "Requirement already satisfied: decorator in c:\\users\\sweetk\\anaconda3\\envs\\p38_health\\lib\\site-packages (from ipython>=7.23.1->ipykernel->jupyter==1.0.0->-r requirements.txt (line 1)) (5.1.1)\n",
      "Requirement already satisfied: backcall in c:\\users\\sweetk\\anaconda3\\envs\\p38_health\\lib\\site-packages (from ipython>=7.23.1->ipykernel->jupyter==1.0.0->-r requirements.txt (line 1)) (0.2.0)\n",
      "Requirement already satisfied: entrypoints in c:\\users\\sweetk\\anaconda3\\envs\\p38_health\\lib\\site-packages (from jupyter-client>=6.1.12->ipykernel->jupyter==1.0.0->-r requirements.txt (line 1)) (0.4)\n",
      "Requirement already satisfied: pywin32>=1.0 in c:\\users\\sweetk\\anaconda3\\envs\\p38_health\\lib\\site-packages (from jupyter-core>=4.7->nbconvert->jupyter==1.0.0->-r requirements.txt (line 1)) (304)\n",
      "Requirement already satisfied: jsonschema>=2.6 in c:\\users\\sweetk\\anaconda3\\envs\\p38_health\\lib\\site-packages (from nbformat>=5.1->nbconvert->jupyter==1.0.0->-r requirements.txt (line 1)) (4.16.0)\n",
      "Requirement already satisfied: fastjsonschema in c:\\users\\sweetk\\anaconda3\\envs\\p38_health\\lib\\site-packages (from nbformat>=5.1->nbconvert->jupyter==1.0.0->-r requirements.txt (line 1)) (2.16.2)\n",
      "Requirement already satisfied: wcwidth in c:\\users\\sweetk\\anaconda3\\envs\\p38_health\\lib\\site-packages (from prompt-toolkit!=3.0.0,!=3.0.1,<3.1.0,>=2.0.0->jupyter-console->jupyter==1.0.0->-r requirements.txt (line 1)) (0.2.5)\n",
      "Requirement already satisfied: pywinpty>=1.1.0 in c:\\users\\sweetk\\anaconda3\\envs\\p38_health\\lib\\site-packages (from terminado>=0.8.3->notebook->jupyter==1.0.0->-r requirements.txt (line 1)) (2.0.8)\n",
      "Requirement already satisfied: argon2-cffi-bindings in c:\\users\\sweetk\\anaconda3\\envs\\p38_health\\lib\\site-packages (from argon2-cffi->notebook->jupyter==1.0.0->-r requirements.txt (line 1)) (21.2.0)\n",
      "Requirement already satisfied: soupsieve>1.2 in c:\\users\\sweetk\\anaconda3\\envs\\p38_health\\lib\\site-packages (from beautifulsoup4->nbconvert->jupyter==1.0.0->-r requirements.txt (line 1)) (2.3.2.post1)\n",
      "Requirement already satisfied: webencodings in c:\\users\\sweetk\\anaconda3\\envs\\p38_health\\lib\\site-packages (from bleach->nbconvert->jupyter==1.0.0->-r requirements.txt (line 1)) (0.5.1)\n",
      "Requirement already satisfied: parso<0.9.0,>=0.8.0 in c:\\users\\sweetk\\anaconda3\\envs\\p38_health\\lib\\site-packages (from jedi>=0.16->ipython>=7.23.1->ipykernel->jupyter==1.0.0->-r requirements.txt (line 1)) (0.8.3)\n",
      "Requirement already satisfied: pkgutil-resolve-name>=1.3.10 in c:\\users\\sweetk\\anaconda3\\envs\\p38_health\\lib\\site-packages (from jsonschema>=2.6->nbformat>=5.1->nbconvert->jupyter==1.0.0->-r requirements.txt (line 1)) (1.3.10)\n",
      "Requirement already satisfied: pyrsistent!=0.17.0,!=0.17.1,!=0.17.2,>=0.14.0 in c:\\users\\sweetk\\anaconda3\\envs\\p38_health\\lib\\site-packages (from jsonschema>=2.6->nbformat>=5.1->nbconvert->jupyter==1.0.0->-r requirements.txt (line 1)) (0.18.1)\n",
      "Requirement already satisfied: importlib-resources>=1.4.0 in c:\\users\\sweetk\\anaconda3\\envs\\p38_health\\lib\\site-packages (from jsonschema>=2.6->nbformat>=5.1->nbconvert->jupyter==1.0.0->-r requirements.txt (line 1)) (5.10.0)\n",
      "Requirement already satisfied: attrs>=17.4.0 in c:\\users\\sweetk\\anaconda3\\envs\\p38_health\\lib\\site-packages (from jsonschema>=2.6->nbformat>=5.1->nbconvert->jupyter==1.0.0->-r requirements.txt (line 1)) (22.1.0)\n",
      "Requirement already satisfied: websocket-client in c:\\users\\sweetk\\anaconda3\\envs\\p38_health\\lib\\site-packages (from jupyter-server>=1.8->nbclassic==0.4.5->notebook->jupyter==1.0.0->-r requirements.txt (line 1)) (1.4.1)\n",
      "Requirement already satisfied: anyio<4,>=3.1.0 in c:\\users\\sweetk\\anaconda3\\envs\\p38_health\\lib\\site-packages (from jupyter-server>=1.8->nbclassic==0.4.5->notebook->jupyter==1.0.0->-r requirements.txt (line 1)) (3.6.2)\n",
      "Requirement already satisfied: cffi>=1.0.1 in c:\\users\\sweetk\\anaconda3\\envs\\p38_health\\lib\\site-packages (from argon2-cffi-bindings->argon2-cffi->notebook->jupyter==1.0.0->-r requirements.txt (line 1)) (1.15.1)\n",
      "Requirement already satisfied: pure-eval in c:\\users\\sweetk\\anaconda3\\envs\\p38_health\\lib\\site-packages (from stack-data->ipython>=7.23.1->ipykernel->jupyter==1.0.0->-r requirements.txt (line 1)) (0.2.2)\n",
      "Requirement already satisfied: executing in c:\\users\\sweetk\\anaconda3\\envs\\p38_health\\lib\\site-packages (from stack-data->ipython>=7.23.1->ipykernel->jupyter==1.0.0->-r requirements.txt (line 1)) (1.1.1)\n",
      "Requirement already satisfied: asttokens in c:\\users\\sweetk\\anaconda3\\envs\\p38_health\\lib\\site-packages (from stack-data->ipython>=7.23.1->ipykernel->jupyter==1.0.0->-r requirements.txt (line 1)) (2.0.8)\n",
      "Requirement already satisfied: idna>=2.8 in c:\\users\\sweetk\\anaconda3\\envs\\p38_health\\lib\\site-packages (from anyio<4,>=3.1.0->jupyter-server>=1.8->nbclassic==0.4.5->notebook->jupyter==1.0.0->-r requirements.txt (line 1)) (3.4)\n",
      "Requirement already satisfied: sniffio>=1.1 in c:\\users\\sweetk\\anaconda3\\envs\\p38_health\\lib\\site-packages (from anyio<4,>=3.1.0->jupyter-server>=1.8->nbclassic==0.4.5->notebook->jupyter==1.0.0->-r requirements.txt (line 1)) (1.3.0)\n",
      "Requirement already satisfied: pycparser in c:\\users\\sweetk\\anaconda3\\envs\\p38_health\\lib\\site-packages (from cffi>=1.0.1->argon2-cffi-bindings->argon2-cffi->notebook->jupyter==1.0.0->-r requirements.txt (line 1)) (2.21)\n"
     ]
    }
   ],
   "source": [
    "!pip install -r requirements.txt"
   ],
   "metadata": {
    "collapsed": false,
    "pycharm": {
     "name": "#%%\n"
    }
   }
  },
  {
   "cell_type": "code",
   "execution_count": 1,
   "outputs": [],
   "source": [
    "import pandas as pd\n",
    "\n",
    "# ※ Dataset 로드\n",
    "\n",
    "#1. path 설정\n",
    "train_path = '../평가용 데이터셋/1.Training/라벨링데이터/'\n",
    "val_path = '../평가용 데이터셋/2.Validation/라벨링데이터/'\n",
    "test_path = '../평가용 데이터셋/3.Test/라벨링데이터/'\n",
    "\n",
    "#2-1. Dataset(전향)\n",
    "train_for = pd.read_csv(train_path + '호흡기전향_학습.csv',index_col=None)\n",
    "val_for = pd.read_csv(val_path + '호흡기전향_평가.csv',index_col=None)\n",
    "test_for = pd.read_csv(test_path + '호흡기전향_테스트.csv',index_col=None)\n",
    "\n",
    "#2-2. Dataset(후향)\n",
    "train_bck = pd.read_csv(train_path + '호흡기후향_학습.csv',index_col=None)\n",
    "val_bck = pd.read_csv(val_path + '호흡기후향_평가.csv',index_col=None)\n",
    "test_bck = pd.read_csv(test_path + '호흡기후향_테스트.csv',index_col=None)\n",
    "\n",
    "#3. 제외컬럼 설정\n",
    "drop_list = ['train', 'val', 'test']\n",
    "drop_list_for = [train_for, val_for, test_for]\n",
    "drop_list_bck = [train_bck, val_bck, test_bck]\n",
    "for name, i, j in zip(drop_list, drop_list_for, drop_list_bck):\n",
    "    i.drop_duplicates()\n",
    "    globals()[\"{}\".format(i)] = i.drop(\n",
    "        columns=[\"PI_PatientId\",\n",
    "        \"DI_Date\",\n",
    "        \"DI_Name\",\n",
    "        \"DI_Provider\",\n",
    "        'PEGS_Rt',\n",
    "        'PEGS_Lt',\n",
    "        'QE5_TotalScore',\n",
    "        'QC_TotalScore',\n",
    "        'QSF_TotalScore'], axis=1, inplace=True)\n",
    "    j.drop_duplicates()\n",
    "    globals()[\"{}\".format(j)] = j.drop(\n",
    "        columns=[\"PI_PatientId\",\n",
    "        \"DI_Date\",\n",
    "        \"DI_Name\",\n",
    "        \"DI_Provider\",\n",
    "        'PEGS_Rt',\n",
    "        'PEGS_Lt',\n",
    "        'QE5_TotalScore',\n",
    "        'QC_TotalScore',\n",
    "        'QSF_TotalScore'], axis=1, inplace=True)\n",
    "    globals()[\"{}\".format(name)] = pd.concat([i,j], join='inner')"
   ],
   "metadata": {
    "collapsed": false,
    "pycharm": {
     "name": "#%%\n"
    }
   }
  },
  {
   "cell_type": "code",
   "execution_count": 2,
   "outputs": [
    {
     "name": "stdout",
     "output_type": "stream",
     "text": [
      "train dataset: 225 \n",
      "validation dataset: 28 \n",
      "test dataset: 29\n"
     ]
    }
   ],
   "source": [
    "#4. Dataset 사례수 확인\n",
    "print('train dataset:', len(train), '\\n' 'validation dataset:', len(val), '\\n' 'test dataset:', len(test))"
   ],
   "metadata": {
    "collapsed": false,
    "pycharm": {
     "name": "#%%\n"
    }
   }
  },
  {
   "cell_type": "code",
   "execution_count": 3,
   "outputs": [],
   "source": [
    "#5. Category 변수 인코딩(양호/허약 → 0/1로 변환)\n",
    "from sklearn.preprocessing import LabelEncoder\n",
    "LE = LabelEncoder()\n",
    "\n",
    "train_label = train['Label'].copy()\n",
    "train_df_label = LE.fit_transform(train_label)\n",
    "train_df_y = train[\"PEGS_BestScore\"].copy()\n",
    "train_df_x = train.copy()\n",
    "train_df_x = train_df_x.drop(columns = [\"PEGS_BestScore\", \"Label\"])\n",
    "\n",
    "val_label = val['Label'].copy()\n",
    "val_df_label = LE.fit_transform(val_label)\n",
    "val_df_y = val[\"PEGS_BestScore\"].copy()\n",
    "val_df_x = val.copy()\n",
    "val_df_x = val_df_x.drop(columns = [\"PEGS_BestScore\", \"Label\"])\n",
    "\n",
    "test_label = test['Label'].copy()\n",
    "test_df_label = LE.fit_transform(test_label)\n",
    "test_df_y = test[\"PEGS_BestScore\"].copy()\n",
    "test_df_x = test.copy()\n",
    "test_df_x = test_df_x.drop(columns = [\"PEGS_BestScore\", \"Label\"])"
   ],
   "metadata": {
    "collapsed": false,
    "pycharm": {
     "name": "#%%\n"
    }
   }
  },
  {
   "cell_type": "code",
   "execution_count": 4,
   "metadata": {
    "pycharm": {
     "name": "#%%\n"
    }
   },
   "outputs": [
    {
     "name": "stdout",
     "output_type": "stream",
     "text": [
      "0:\tlearn: 0.1786944\ttest: 0.1786944\ttest1: 0.1886128\tbest: 0.1886128 (0)\ttotal: 223ms\tremaining: 37m 6s\n",
      "1:\tlearn: 0.1311417\ttest: 0.1311417\ttest1: 0.1705804\tbest: 0.1705804 (1)\ttotal: 262ms\tremaining: 21m 50s\n",
      "2:\tlearn: 0.1188443\ttest: 0.1188443\ttest1: 0.1672095\tbest: 0.1672095 (2)\ttotal: 336ms\tremaining: 18m 39s\n",
      "3:\tlearn: 0.1032970\ttest: 0.1032970\ttest1: 0.1732517\tbest: 0.1672095 (2)\ttotal: 722ms\tremaining: 30m 4s\n",
      "4:\tlearn: 0.0903859\ttest: 0.0903859\ttest1: 0.1812889\tbest: 0.1672095 (2)\ttotal: 1.33s\tremaining: 44m 11s\n",
      "5:\tlearn: 0.0814836\ttest: 0.0814836\ttest1: 0.1782588\tbest: 0.1672095 (2)\ttotal: 1.89s\tremaining: 52m 22s\n",
      "6:\tlearn: 0.0619859\ttest: 0.0619859\ttest1: 0.1801808\tbest: 0.1672095 (2)\ttotal: 2.45s\tremaining: 58m 22s\n",
      "7:\tlearn: 0.0521604\ttest: 0.0521604\ttest1: 0.1790050\tbest: 0.1672095 (2)\ttotal: 3.03s\tremaining: 1h 3m 9s\n",
      "8:\tlearn: 0.0441888\ttest: 0.0441888\ttest1: 0.1788046\tbest: 0.1672095 (2)\ttotal: 3.56s\tremaining: 1h 5m 48s\n",
      "9:\tlearn: 0.0408644\ttest: 0.0408644\ttest1: 0.1776556\tbest: 0.1672095 (2)\ttotal: 4.06s\tremaining: 1h 7m 38s\n",
      "10:\tlearn: 0.0381095\ttest: 0.0381095\ttest1: 0.1819613\tbest: 0.1672095 (2)\ttotal: 4.08s\tremaining: 1h 1m 43s\n",
      "11:\tlearn: 0.0293597\ttest: 0.0293597\ttest1: 0.1804564\tbest: 0.1672095 (2)\ttotal: 4.61s\tremaining: 1h 3m 54s\n",
      "12:\tlearn: 0.0222322\ttest: 0.0222322\ttest1: 0.1795009\tbest: 0.1672095 (2)\ttotal: 5.11s\tremaining: 1h 5m 25s\n",
      "13:\tlearn: 0.0172653\ttest: 0.0172653\ttest1: 0.1806035\tbest: 0.1672095 (2)\ttotal: 5.63s\tremaining: 1h 6m 55s\n",
      "14:\tlearn: 0.0148372\ttest: 0.0148372\ttest1: 0.1799965\tbest: 0.1672095 (2)\ttotal: 6.13s\tremaining: 1h 7m 59s\n",
      "15:\tlearn: 0.0114850\ttest: 0.0114850\ttest1: 0.1794839\tbest: 0.1672095 (2)\ttotal: 6.66s\tremaining: 1h 9m 13s\n",
      "16:\tlearn: 0.0109676\ttest: 0.0109676\ttest1: 0.1791531\tbest: 0.1672095 (2)\ttotal: 7.14s\tremaining: 1h 9m 52s\n",
      "17:\tlearn: 0.0103393\ttest: 0.0103393\ttest1: 0.1789348\tbest: 0.1672095 (2)\ttotal: 7.26s\tremaining: 1h 7m 7s\n",
      "18:\tlearn: 0.0083292\ttest: 0.0083292\ttest1: 0.1787434\tbest: 0.1672095 (2)\ttotal: 7.38s\tremaining: 1h 4m 36s\n",
      "19:\tlearn: 0.0069169\ttest: 0.0069169\ttest1: 0.1783830\tbest: 0.1672095 (2)\ttotal: 7.87s\tremaining: 1h 5m 29s\n",
      "20:\tlearn: 0.0055675\ttest: 0.0055675\ttest1: 0.1784466\tbest: 0.1672095 (2)\ttotal: 8.38s\tremaining: 1h 6m 21s\n",
      "21:\tlearn: 0.0054092\ttest: 0.0054092\ttest1: 0.1784664\tbest: 0.1672095 (2)\ttotal: 8.86s\tremaining: 1h 6m 56s\n",
      "22:\tlearn: 0.0052428\ttest: 0.0052428\ttest1: 0.1785331\tbest: 0.1672095 (2)\ttotal: 9.34s\tremaining: 1h 7m 32s\n",
      "23:\tlearn: 0.0043603\ttest: 0.0043603\ttest1: 0.1787100\tbest: 0.1672095 (2)\ttotal: 9.82s\tremaining: 1h 8m 3s\n",
      "24:\tlearn: 0.0035413\ttest: 0.0035413\ttest1: 0.1786074\tbest: 0.1672095 (2)\ttotal: 10.3s\tremaining: 1h 8m 38s\n",
      "25:\tlearn: 0.0028319\ttest: 0.0028319\ttest1: 0.1784925\tbest: 0.1672095 (2)\ttotal: 10.8s\tremaining: 1h 9m 2s\n",
      "26:\tlearn: 0.0022598\ttest: 0.0022598\ttest1: 0.1782006\tbest: 0.1672095 (2)\ttotal: 11.4s\tremaining: 1h 10m 3s\n",
      "27:\tlearn: 0.0021859\ttest: 0.0021859\ttest1: 0.1781827\tbest: 0.1672095 (2)\ttotal: 11.9s\tremaining: 1h 10m 32s\n",
      "28:\tlearn: 0.0021351\ttest: 0.0021351\ttest1: 0.1782662\tbest: 0.1672095 (2)\ttotal: 12.1s\tremaining: 1h 9m 28s\n",
      "29:\tlearn: 0.0016694\ttest: 0.0016694\ttest1: 0.1782069\tbest: 0.1672095 (2)\ttotal: 12.6s\tremaining: 1h 9m 53s\n",
      "30:\tlearn: 0.0013400\ttest: 0.0013400\ttest1: 0.1780114\tbest: 0.1672095 (2)\ttotal: 13.2s\tremaining: 1h 10m 47s\n",
      "31:\tlearn: 0.0011282\ttest: 0.0011282\ttest1: 0.1779827\tbest: 0.1672095 (2)\ttotal: 13.9s\tremaining: 1h 12m 5s\n",
      "32:\tlearn: 0.0009026\ttest: 0.0009026\ttest1: 0.1779190\tbest: 0.1672095 (2)\ttotal: 14.1s\tremaining: 1h 11m 8s\n",
      "33:\tlearn: 0.0007669\ttest: 0.0007669\ttest1: 0.1779775\tbest: 0.1672095 (2)\ttotal: 14.7s\tremaining: 1h 11m 35s\n",
      "34:\tlearn: 0.0006096\ttest: 0.0006096\ttest1: 0.1779647\tbest: 0.1672095 (2)\ttotal: 15.2s\tremaining: 1h 12m 15s\n",
      "35:\tlearn: 0.0005054\ttest: 0.0005054\ttest1: 0.1779686\tbest: 0.1672095 (2)\ttotal: 15.9s\tremaining: 1h 13m 7s\n",
      "36:\tlearn: 0.0004034\ttest: 0.0004034\ttest1: 0.1779710\tbest: 0.1672095 (2)\ttotal: 16.4s\tremaining: 1h 13m 31s\n",
      "37:\tlearn: 0.0003530\ttest: 0.0003530\ttest1: 0.1779933\tbest: 0.1672095 (2)\ttotal: 16.9s\tremaining: 1h 13m 45s\n",
      "38:\tlearn: 0.0003096\ttest: 0.0003096\ttest1: 0.1780154\tbest: 0.1672095 (2)\ttotal: 17.4s\tremaining: 1h 13m 53s\n",
      "39:\tlearn: 0.0002540\ttest: 0.0002540\ttest1: 0.1780173\tbest: 0.1672095 (2)\ttotal: 17.9s\tremaining: 1h 14m 6s\n",
      "40:\tlearn: 0.0002277\ttest: 0.0002277\ttest1: 0.1780203\tbest: 0.1672095 (2)\ttotal: 18.4s\tremaining: 1h 14m 24s\n",
      "41:\tlearn: 0.0001734\ttest: 0.0001734\ttest1: 0.1780094\tbest: 0.1672095 (2)\ttotal: 19s\tremaining: 1h 14m 56s\n",
      "42:\tlearn: 0.0001344\ttest: 0.0001344\ttest1: 0.1780041\tbest: 0.1672095 (2)\ttotal: 19.6s\tremaining: 1h 15m 40s\n",
      "43:\tlearn: 0.0001183\ttest: 0.0001183\ttest1: 0.1780175\tbest: 0.1672095 (2)\ttotal: 20.1s\tremaining: 1h 15m 50s\n",
      "44:\tlearn: 0.0001085\ttest: 0.0001085\ttest1: 0.1780174\tbest: 0.1672095 (2)\ttotal: 20.1s\tremaining: 1h 14m 16s\n",
      "45:\tlearn: 0.0000932\ttest: 0.0000932\ttest1: 0.1780185\tbest: 0.1672095 (2)\ttotal: 20.7s\tremaining: 1h 14m 30s\n",
      "46:\tlearn: 0.0000893\ttest: 0.0000893\ttest1: 0.1780179\tbest: 0.1672095 (2)\ttotal: 21.1s\tremaining: 1h 14m 39s\n",
      "47:\tlearn: 0.0000746\ttest: 0.0000746\ttest1: 0.1780149\tbest: 0.1672095 (2)\ttotal: 21.8s\tremaining: 1h 15m 26s\n",
      "Stopped by overfitting detector  (45 iterations wait)\n",
      "\n",
      "bestTest = 0.1672094941\n",
      "bestIteration = 2\n",
      "\n",
      "Shrink model to first 3 iterations.\n"
     ]
    }
   ],
   "source": [
    "from catboost import CatBoostRegressor\n",
    "import numpy as np\n",
    "\n",
    "#6. 모델링(Regression)\n",
    "cbr = CatBoostRegressor(\n",
    "    iterations=10000,\n",
    "    learning_rate=1,\n",
    "    depth=15,\n",
    "    # l2_leaf_reg=20,\n",
    "    # bootstrap_type='Bernoulli',\n",
    "    subsample=0.6,\n",
    "    eval_metric='MAE',\n",
    "    metric_period=1,\n",
    "    od_type='Iter',\n",
    "    od_wait=45,\n",
    "    random_seed=17,\n",
    "    allow_writing_files=True\n",
    ")\n",
    "\n",
    "#7. 모델 Train 수행\n",
    "cbr.fit(\n",
    "    train_df_x, np.log1p(train_df_y),\n",
    "    eval_set=[(train_df_x, np.log1p(train_df_y)),(val_df_x, np.log1p(val_df_y))],\n",
    "    use_best_model=True,\n",
    "    verbose=True)\n",
    "\n",
    "pred = cbr.predict(test_df_x)"
   ]
  },
  {
   "cell_type": "code",
   "execution_count": 5,
   "metadata": {
    "pycharm": {
     "name": "#%%\n"
    }
   },
   "outputs": [],
   "source": [
    "#8. 예측변수 후처리 : Regression을 통해 나온 예측값(수치변인)을 아래 기준에 맞게 Category(범주변인)로 재정의\n",
    "test_df_x[\"PEGS_pred\"] = np.expm1(pred)\n",
    "test_df_x.loc[(test_df_x.PI_Sex==1)&(test_df_x.PEGS_pred<28),\"new_Label\"] = \"허약\"\n",
    "test_df_x.loc[(test_df_x.PI_Sex==1)&(test_df_x.PEGS_pred>=28),\"new_Label\"] = \"양호\"\n",
    "test_df_x.loc[(test_df_x.PI_Sex==2)&(test_df_x.PEGS_pred<18),\"new_Label\"] = \"허약\"\n",
    "test_df_x.loc[(test_df_x.PI_Sex==2)&(test_df_x.PEGS_pred>=18),\"new_Label\"] = \"양호\""
   ]
  },
  {
   "cell_type": "code",
   "execution_count": 6,
   "outputs": [
    {
     "data": {
      "text/plain": "0     30.480678\n1     24.007398\n2     25.783102\n3     32.262189\n0     26.631844\n1     30.893120\n2     29.908206\n3     34.346314\n4     27.688946\n5     20.425055\n6     29.291001\n7     27.680218\n8     28.291635\n9     27.948725\n10    26.698299\n11    34.346314\n12    40.730789\n13    24.040026\n14    27.845540\n15    28.411169\n16    19.259626\n17    30.651854\n18    37.485535\n19    32.584055\n20    20.637507\n21    26.698299\n22    35.882216\n23    30.651854\n24    23.262774\nName: PEGS_pred, dtype: float64"
     },
     "execution_count": 6,
     "metadata": {},
     "output_type": "execute_result"
    }
   ],
   "source": [
    "test_df_x['PEGS_pred']"
   ],
   "metadata": {
    "collapsed": false,
    "pycharm": {
     "name": "#%%\n"
    }
   }
  },
  {
   "cell_type": "code",
   "execution_count": 7,
   "outputs": [
    {
     "data": {
      "text/plain": "array([0, 0, 0, 0, 0, 0, 0, 0, 1, 0, 0, 0, 0, 0, 1, 0, 0, 1, 1, 0, 0, 0,\n       0, 0, 0, 1, 0, 0, 0])"
     },
     "execution_count": 7,
     "metadata": {},
     "output_type": "execute_result"
    }
   ],
   "source": [
    "#9. 새로운 Category 변수 인코딩(양호/허약 → 0/1로 변환)\n",
    "LE = LabelEncoder()\n",
    "new_df_label = LE.fit_transform(test_df_x[\"new_Label\"])\n",
    "new_df_label"
   ],
   "metadata": {
    "collapsed": false,
    "pycharm": {
     "name": "#%%\n"
    }
   }
  },
  {
   "cell_type": "code",
   "execution_count": 8,
   "metadata": {
    "pycharm": {
     "name": "#%%\n"
    }
   },
   "outputs": [
    {
     "name": "stdout",
     "output_type": "stream",
     "text": [
      "              precision    recall  f1-score   support\n",
      "\n",
      "           0       0.83      0.95      0.89        21\n",
      "           1       0.80      0.50      0.62         8\n",
      "\n",
      "    accuracy                           0.83        29\n",
      "   macro avg       0.82      0.73      0.75        29\n",
      "weighted avg       0.82      0.83      0.81        29\n",
      "\n"
     ]
    }
   ],
   "source": [
    "#10. 모델 평가\n",
    "from sklearn.metrics import classification_report\n",
    "test_labellist = pd.DataFrame(test_df_label)\n",
    "cls = classification_report(test_labellist, new_df_label)\n",
    "# 0 : 양호, 1 : 허약\n",
    "print(cls)"
   ]
  },
  {
   "cell_type": "code",
   "execution_count": 9,
   "outputs": [
    {
     "name": "stdout",
     "output_type": "stream",
     "text": [
      "              precision    recall  f1-score   support\n",
      "\n",
      "           0       0.83      0.95      0.89        21\n",
      "           1       0.80      0.50      0.62         8\n",
      "\n",
      "    accuracy                           0.83        29\n",
      "   macro avg       0.82      0.73      0.75        29\n",
      "weighted avg       0.82      0.83      0.81        29\n",
      "\n"
     ]
    }
   ],
   "source": [
    "#11. 평가 결과물 저장\n",
    "def printsave(*a):\n",
    "    file = open('./eval_f1_score.txt','a')\n",
    "    print(*a)\n",
    "    print(*a,file=file)\n",
    "    file.close()\n",
    "\n",
    "printsave(cls)"
   ],
   "metadata": {
    "collapsed": false,
    "pycharm": {
     "name": "#%%\n"
    }
   }
  },
  {
   "cell_type": "code",
   "execution_count": 10,
   "outputs": [],
   "source": [
    "#12. 모델 저장\n",
    "cbr.save_model(\"./model_호흡기.cbm\",\n",
    "               format = \"cbm\",\n",
    "               export_parameters=None,\n",
    "               pool = None)"
   ],
   "metadata": {
    "collapsed": false,
    "pycharm": {
     "name": "#%%\n"
    }
   }
  },
  {
   "cell_type": "code",
   "execution_count": 11,
   "metadata": {
    "pycharm": {
     "name": "#%%\n"
    }
   },
   "outputs": [
    {
     "data": {
      "text/plain": "<catboost.core.CatBoostRegressor at 0x22c6f8078b0>"
     },
     "execution_count": 11,
     "metadata": {},
     "output_type": "execute_result"
    }
   ],
   "source": [
    "#13. 모델 불러오기\n",
    "cbr_load = CatBoostRegressor()\n",
    "cbr_load.load_model(\"./model_호흡기.cbm\")"
   ]
  },
  {
   "cell_type": "code",
   "execution_count": 12,
   "outputs": [
    {
     "name": "stderr",
     "output_type": "stream",
     "text": [
      "C:\\Users\\sweetk\\AppData\\Local\\Temp\\ipykernel_7724\\383812656.py:26: PerformanceWarning: DataFrame is highly fragmented.  This is usually the result of calling `frame.insert` many times, which has poor performance.  Consider joining all columns at once using pd.concat(axis=1) instead. To get a de-fragmented frame, use `newframe = frame.copy()`\n",
      "  new_load[\"PEGS_pred\"] = np.expm1(pred)\n",
      "C:\\Users\\sweetk\\AppData\\Local\\Temp\\ipykernel_7724\\383812656.py:27: PerformanceWarning: DataFrame is highly fragmented.  This is usually the result of calling `frame.insert` many times, which has poor performance.  Consider joining all columns at once using pd.concat(axis=1) instead. To get a de-fragmented frame, use `newframe = frame.copy()`\n",
      "  new_load.loc[(new_load.PI_Sex==1)&(new_load.PEGS_pred<28),\"new_Label\"] = \"허약\"\n"
     ]
    }
   ],
   "source": [
    "#14. 새로운 데이터를 로드하여 모델 적용\n",
    "new_path = \"../평가용 데이터셋/3.Test/라벨링데이터/\" # \"파일 경로 입력\"\n",
    "new_load_for = pd.read_csv(new_path + '호흡기전향_테스트.csv',index_col=None)\n",
    "new_load_bck = pd.read_csv(new_path + '호흡기후향_테스트.csv',index_col=None)\n",
    "\n",
    "# train = pd.concat([train_for, train_bck], join='inner')\n",
    "\n",
    "new_drop_list = [new_load_for, new_load_bck]\n",
    "\n",
    "for i in new_drop_list:\n",
    "    i.drop_duplicates()\n",
    "    globals()[\"{}\".format(i)] = i.drop(\n",
    "        columns=[\"PI_PatientId\",\n",
    "        \"DI_Date\",\n",
    "        \"DI_Name\",\n",
    "        \"DI_Provider\",\n",
    "        'QE5_TotalScore',\n",
    "        'QC_TotalScore',\n",
    "        'QSF_TotalScore'], axis=1, inplace=True)\n",
    "\n",
    "new_load = pd.concat([new_load_for, new_load_bck], join='inner')\n",
    "new_load = new_load.drop(columns = [\"PEGS_BestScore\", \"Label\"])\n",
    "\n",
    "pred = cbr_load.predict(new_load)\n",
    "\n",
    "new_load[\"PEGS_pred\"] = np.expm1(pred)\n",
    "new_load.loc[(new_load.PI_Sex==1)&(new_load.PEGS_pred<28),\"new_Label\"] = \"허약\"\n",
    "new_load.loc[(new_load.PI_Sex==1)&(new_load.PEGS_pred>=28),\"new_Label\"] = \"양호\"\n",
    "new_load.loc[(new_load.PI_Sex==2)&(new_load.PEGS_pred<18),\"new_Label\"] = \"허약\"\n",
    "new_load.loc[(new_load.PI_Sex==2)&(new_load.PEGS_pred>=18),\"new_Label\"] = \"양호\""
   ],
   "metadata": {
    "collapsed": false,
    "pycharm": {
     "name": "#%%\n"
    }
   }
  },
  {
   "cell_type": "code",
   "execution_count": 13,
   "outputs": [
    {
     "data": {
      "text/plain": "    PI_Age  PI_Sex  MI_ChronicObstructiveLungDisease  MI_Asthma  \\\n0       78       1                                 1          0   \n1       65       2                                 0          0   \n2       61       2                                 1          0   \n3       70       1                                 0          0   \n0       62       2                                 0          0   \n1       64       1                                 1          0   \n2       70       1                                 0          0   \n3       58       1                                 0          0   \n4       48       1                                 1          0   \n5       71       2                                 0          1   \n6       85       1                                 0          1   \n7       74       2                                 0          0   \n8       55       1                                 1          0   \n9       56       2                                 0          0   \n10      65       1                                 1          0   \n11      71       1                                 0          0   \n12      70       1                                 0          0   \n13      76       1                                 0          0   \n14      68       1                                 1          0   \n15      76       1                                 1          0   \n16      70       2                                 0          1   \n17      56       2                                 0          0   \n18      64       1                                 1          0   \n19      72       1                                 0          0   \n20      64       2                                 0          0   \n21      66       1                                 0          0   \n22      73       1                                 0          0   \n23      61       2                                 0          0   \n24      59       2                                 0          0   \n\n    MI_Bronchiectasis  MI_InterstitialLung  MI_LungCancer  MI_TuberculousLung  \\\n0                   0                    0              0                   0   \n1                   0                    1              0                   0   \n2                   1                    0              1                   0   \n3                   0                    0              1                   0   \n0                   0                    0              1                   0   \n1                   0                    0              0                   1   \n2                   1                    0              0                   0   \n3                   0                    0              1                   0   \n4                   0                    0              0                   1   \n5                   0                    0              1                   0   \n6                   0                    0              0                   0   \n7                   0                    0              0                   0   \n8                   0                    0              0                   0   \n9                   1                    0              0                   0   \n10                  0                    0              0                   0   \n11                  0                    0              0                   0   \n12                  0                    0              1                   0   \n13                  0                    0              1                   0   \n14                  0                    0              0                   1   \n15                  0                    0              0                   0   \n16                  0                    0              1                   0   \n17                  1                    0              0                   0   \n18                  0                    0              0                   1   \n19                  0                    1              0                   0   \n20                  0                    0              1                   0   \n21                  0                    0              0                   1   \n22                  0                    1              0                   0   \n23                  1                    0              0                   0   \n24                  0                    0              1                   0   \n\n    MI_RestrictedLungDiseaseDueToMusculoskeletalDisorders  \\\n0                                                   0       \n1                                                   0       \n2                                                   0       \n3                                                   0       \n0                                                   0       \n1                                                   0       \n2                                                   0       \n3                                                   0       \n4                                                   0       \n5                                                   0       \n6                                                   0       \n7                                                   0       \n8                                                   0       \n9                                                   0       \n10                                                  0       \n11                                                  0       \n12                                                  0       \n13                                                  0       \n14                                                  0       \n15                                                  0       \n16                                                  0       \n17                                                  0       \n18                                                  0       \n19                                                  0       \n20                                                  0       \n21                                                  0       \n22                                                  0       \n23                                                  0       \n24                                                  0       \n\n    MI_PulmonaryArterialHypertension  ...  QIB_NoOfTimesPerWeek  \\\n0                                  0  ...                   NaN   \n1                                  1  ...                   NaN   \n2                                  0  ...                   NaN   \n3                                  0  ...                   NaN   \n0                                  0  ...                   NaN   \n1                                  0  ...                   NaN   \n2                                  0  ...                   NaN   \n3                                  0  ...                   NaN   \n4                                  0  ...                   NaN   \n5                                  0  ...                   NaN   \n6                                  0  ...                   NaN   \n7                                  0  ...                   NaN   \n8                                  0  ...                   NaN   \n9                                  0  ...                   NaN   \n10                                 0  ...                   NaN   \n11                                 0  ...                   NaN   \n12                                 0  ...                   NaN   \n13                                 0  ...                   NaN   \n14                                 0  ...                   NaN   \n15                                 0  ...                   NaN   \n16                                 0  ...                   NaN   \n17                                 0  ...                   NaN   \n18                                 0  ...                   NaN   \n19                                 0  ...                   NaN   \n20                                 0  ...                   NaN   \n21                                 0  ...                   NaN   \n22                                 0  ...                   NaN   \n23                                 0  ...                   NaN   \n24                                 0  ...                   NaN   \n\n    QIB_LevelOfExercise  QBE_Time  QBE_NoOfTimesPerDay  QBE_NoOfTimesPerWeek  \\\n0                   NaN       NaN                  NaN                   NaN   \n1                   NaN       NaN                  NaN                   NaN   \n2                   NaN       NaN                  NaN                   NaN   \n3                   NaN       NaN                  NaN                   NaN   \n0                   NaN       NaN                  NaN                   NaN   \n1                   NaN       NaN                  NaN                   NaN   \n2                   NaN       NaN                  NaN                   NaN   \n3                   NaN       NaN                  NaN                   NaN   \n4                   NaN       NaN                  NaN                   NaN   \n5                   NaN       NaN                  NaN                   NaN   \n6                   NaN       NaN                  NaN                   NaN   \n7                   NaN       NaN                  NaN                   NaN   \n8                   NaN       NaN                  NaN                   NaN   \n9                   NaN       NaN                  NaN                   NaN   \n10                  NaN       NaN                  NaN                   NaN   \n11                  NaN       NaN                  NaN                   NaN   \n12                  NaN       NaN                  NaN                   NaN   \n13                  NaN       NaN                  NaN                   NaN   \n14                  NaN       NaN                  NaN                   NaN   \n15                  NaN       NaN                  NaN                   NaN   \n16                  NaN       NaN                  NaN                   NaN   \n17                  NaN       NaN                  NaN                   NaN   \n18                  NaN       NaN                  NaN                   NaN   \n19                  NaN       NaN                  NaN                   NaN   \n20                  NaN       NaN                  NaN                   NaN   \n21                  NaN       NaN                  NaN                   NaN   \n22                  NaN       NaN                  NaN                   NaN   \n23                  NaN       NaN                  NaN                   NaN   \n24                  NaN       NaN                  NaN                   NaN   \n\n    QO_Time  QO_NoOfTimesPerDay  QO_NoOfTimesPerWeek  PEGS_pred  new_Label  \n0       4.0                 1.0                  5.0  30.480678         양호  \n1       NaN                 NaN                  NaN  24.007398         양호  \n2       NaN                 NaN                  NaN  25.783102         양호  \n3       NaN                 NaN                  NaN  32.262189         양호  \n0       NaN                 NaN                  NaN  26.631844         양호  \n1       NaN                 NaN                  NaN  30.893120         양호  \n2       NaN                 NaN                  NaN  29.908206         양호  \n3       NaN                 NaN                  NaN  34.346314         양호  \n4       NaN                 NaN                  NaN  27.688946         허약  \n5       NaN                 NaN                  NaN  20.425055         양호  \n6       NaN                 NaN                  NaN  29.291001         양호  \n7       NaN                 NaN                  NaN  27.680218         양호  \n8       NaN                 NaN                  NaN  28.291635         양호  \n9       NaN                 NaN                  NaN  27.948725         양호  \n10      NaN                 NaN                  NaN  26.698299         허약  \n11      NaN                 NaN                  NaN  34.346314         양호  \n12      NaN                 NaN                  NaN  40.730789         양호  \n13      NaN                 NaN                  NaN  24.040026         허약  \n14      NaN                 NaN                  NaN  27.845540         허약  \n15      NaN                 NaN                  NaN  28.411169         양호  \n16      NaN                 NaN                  NaN  19.259626         양호  \n17      NaN                 NaN                  NaN  30.651854         양호  \n18      NaN                 NaN                  NaN  37.485535         양호  \n19      NaN                 NaN                  NaN  32.584055         양호  \n20      NaN                 NaN                  NaN  20.637507         양호  \n21      NaN                 NaN                  NaN  26.698299         허약  \n22      NaN                 NaN                  NaN  35.882216         양호  \n23      NaN                 NaN                  NaN  30.651854         양호  \n24      NaN                 NaN                  NaN  23.262774         양호  \n\n[29 rows x 118 columns]",
      "text/html": "<div>\n<style scoped>\n    .dataframe tbody tr th:only-of-type {\n        vertical-align: middle;\n    }\n\n    .dataframe tbody tr th {\n        vertical-align: top;\n    }\n\n    .dataframe thead th {\n        text-align: right;\n    }\n</style>\n<table border=\"1\" class=\"dataframe\">\n  <thead>\n    <tr style=\"text-align: right;\">\n      <th></th>\n      <th>PI_Age</th>\n      <th>PI_Sex</th>\n      <th>MI_ChronicObstructiveLungDisease</th>\n      <th>MI_Asthma</th>\n      <th>MI_Bronchiectasis</th>\n      <th>MI_InterstitialLung</th>\n      <th>MI_LungCancer</th>\n      <th>MI_TuberculousLung</th>\n      <th>MI_RestrictedLungDiseaseDueToMusculoskeletalDisorders</th>\n      <th>MI_PulmonaryArterialHypertension</th>\n      <th>...</th>\n      <th>QIB_NoOfTimesPerWeek</th>\n      <th>QIB_LevelOfExercise</th>\n      <th>QBE_Time</th>\n      <th>QBE_NoOfTimesPerDay</th>\n      <th>QBE_NoOfTimesPerWeek</th>\n      <th>QO_Time</th>\n      <th>QO_NoOfTimesPerDay</th>\n      <th>QO_NoOfTimesPerWeek</th>\n      <th>PEGS_pred</th>\n      <th>new_Label</th>\n    </tr>\n  </thead>\n  <tbody>\n    <tr>\n      <th>0</th>\n      <td>78</td>\n      <td>1</td>\n      <td>1</td>\n      <td>0</td>\n      <td>0</td>\n      <td>0</td>\n      <td>0</td>\n      <td>0</td>\n      <td>0</td>\n      <td>0</td>\n      <td>...</td>\n      <td>NaN</td>\n      <td>NaN</td>\n      <td>NaN</td>\n      <td>NaN</td>\n      <td>NaN</td>\n      <td>4.0</td>\n      <td>1.0</td>\n      <td>5.0</td>\n      <td>30.480678</td>\n      <td>양호</td>\n    </tr>\n    <tr>\n      <th>1</th>\n      <td>65</td>\n      <td>2</td>\n      <td>0</td>\n      <td>0</td>\n      <td>0</td>\n      <td>1</td>\n      <td>0</td>\n      <td>0</td>\n      <td>0</td>\n      <td>1</td>\n      <td>...</td>\n      <td>NaN</td>\n      <td>NaN</td>\n      <td>NaN</td>\n      <td>NaN</td>\n      <td>NaN</td>\n      <td>NaN</td>\n      <td>NaN</td>\n      <td>NaN</td>\n      <td>24.007398</td>\n      <td>양호</td>\n    </tr>\n    <tr>\n      <th>2</th>\n      <td>61</td>\n      <td>2</td>\n      <td>1</td>\n      <td>0</td>\n      <td>1</td>\n      <td>0</td>\n      <td>1</td>\n      <td>0</td>\n      <td>0</td>\n      <td>0</td>\n      <td>...</td>\n      <td>NaN</td>\n      <td>NaN</td>\n      <td>NaN</td>\n      <td>NaN</td>\n      <td>NaN</td>\n      <td>NaN</td>\n      <td>NaN</td>\n      <td>NaN</td>\n      <td>25.783102</td>\n      <td>양호</td>\n    </tr>\n    <tr>\n      <th>3</th>\n      <td>70</td>\n      <td>1</td>\n      <td>0</td>\n      <td>0</td>\n      <td>0</td>\n      <td>0</td>\n      <td>1</td>\n      <td>0</td>\n      <td>0</td>\n      <td>0</td>\n      <td>...</td>\n      <td>NaN</td>\n      <td>NaN</td>\n      <td>NaN</td>\n      <td>NaN</td>\n      <td>NaN</td>\n      <td>NaN</td>\n      <td>NaN</td>\n      <td>NaN</td>\n      <td>32.262189</td>\n      <td>양호</td>\n    </tr>\n    <tr>\n      <th>0</th>\n      <td>62</td>\n      <td>2</td>\n      <td>0</td>\n      <td>0</td>\n      <td>0</td>\n      <td>0</td>\n      <td>1</td>\n      <td>0</td>\n      <td>0</td>\n      <td>0</td>\n      <td>...</td>\n      <td>NaN</td>\n      <td>NaN</td>\n      <td>NaN</td>\n      <td>NaN</td>\n      <td>NaN</td>\n      <td>NaN</td>\n      <td>NaN</td>\n      <td>NaN</td>\n      <td>26.631844</td>\n      <td>양호</td>\n    </tr>\n    <tr>\n      <th>1</th>\n      <td>64</td>\n      <td>1</td>\n      <td>1</td>\n      <td>0</td>\n      <td>0</td>\n      <td>0</td>\n      <td>0</td>\n      <td>1</td>\n      <td>0</td>\n      <td>0</td>\n      <td>...</td>\n      <td>NaN</td>\n      <td>NaN</td>\n      <td>NaN</td>\n      <td>NaN</td>\n      <td>NaN</td>\n      <td>NaN</td>\n      <td>NaN</td>\n      <td>NaN</td>\n      <td>30.893120</td>\n      <td>양호</td>\n    </tr>\n    <tr>\n      <th>2</th>\n      <td>70</td>\n      <td>1</td>\n      <td>0</td>\n      <td>0</td>\n      <td>1</td>\n      <td>0</td>\n      <td>0</td>\n      <td>0</td>\n      <td>0</td>\n      <td>0</td>\n      <td>...</td>\n      <td>NaN</td>\n      <td>NaN</td>\n      <td>NaN</td>\n      <td>NaN</td>\n      <td>NaN</td>\n      <td>NaN</td>\n      <td>NaN</td>\n      <td>NaN</td>\n      <td>29.908206</td>\n      <td>양호</td>\n    </tr>\n    <tr>\n      <th>3</th>\n      <td>58</td>\n      <td>1</td>\n      <td>0</td>\n      <td>0</td>\n      <td>0</td>\n      <td>0</td>\n      <td>1</td>\n      <td>0</td>\n      <td>0</td>\n      <td>0</td>\n      <td>...</td>\n      <td>NaN</td>\n      <td>NaN</td>\n      <td>NaN</td>\n      <td>NaN</td>\n      <td>NaN</td>\n      <td>NaN</td>\n      <td>NaN</td>\n      <td>NaN</td>\n      <td>34.346314</td>\n      <td>양호</td>\n    </tr>\n    <tr>\n      <th>4</th>\n      <td>48</td>\n      <td>1</td>\n      <td>1</td>\n      <td>0</td>\n      <td>0</td>\n      <td>0</td>\n      <td>0</td>\n      <td>1</td>\n      <td>0</td>\n      <td>0</td>\n      <td>...</td>\n      <td>NaN</td>\n      <td>NaN</td>\n      <td>NaN</td>\n      <td>NaN</td>\n      <td>NaN</td>\n      <td>NaN</td>\n      <td>NaN</td>\n      <td>NaN</td>\n      <td>27.688946</td>\n      <td>허약</td>\n    </tr>\n    <tr>\n      <th>5</th>\n      <td>71</td>\n      <td>2</td>\n      <td>0</td>\n      <td>1</td>\n      <td>0</td>\n      <td>0</td>\n      <td>1</td>\n      <td>0</td>\n      <td>0</td>\n      <td>0</td>\n      <td>...</td>\n      <td>NaN</td>\n      <td>NaN</td>\n      <td>NaN</td>\n      <td>NaN</td>\n      <td>NaN</td>\n      <td>NaN</td>\n      <td>NaN</td>\n      <td>NaN</td>\n      <td>20.425055</td>\n      <td>양호</td>\n    </tr>\n    <tr>\n      <th>6</th>\n      <td>85</td>\n      <td>1</td>\n      <td>0</td>\n      <td>1</td>\n      <td>0</td>\n      <td>0</td>\n      <td>0</td>\n      <td>0</td>\n      <td>0</td>\n      <td>0</td>\n      <td>...</td>\n      <td>NaN</td>\n      <td>NaN</td>\n      <td>NaN</td>\n      <td>NaN</td>\n      <td>NaN</td>\n      <td>NaN</td>\n      <td>NaN</td>\n      <td>NaN</td>\n      <td>29.291001</td>\n      <td>양호</td>\n    </tr>\n    <tr>\n      <th>7</th>\n      <td>74</td>\n      <td>2</td>\n      <td>0</td>\n      <td>0</td>\n      <td>0</td>\n      <td>0</td>\n      <td>0</td>\n      <td>0</td>\n      <td>0</td>\n      <td>0</td>\n      <td>...</td>\n      <td>NaN</td>\n      <td>NaN</td>\n      <td>NaN</td>\n      <td>NaN</td>\n      <td>NaN</td>\n      <td>NaN</td>\n      <td>NaN</td>\n      <td>NaN</td>\n      <td>27.680218</td>\n      <td>양호</td>\n    </tr>\n    <tr>\n      <th>8</th>\n      <td>55</td>\n      <td>1</td>\n      <td>1</td>\n      <td>0</td>\n      <td>0</td>\n      <td>0</td>\n      <td>0</td>\n      <td>0</td>\n      <td>0</td>\n      <td>0</td>\n      <td>...</td>\n      <td>NaN</td>\n      <td>NaN</td>\n      <td>NaN</td>\n      <td>NaN</td>\n      <td>NaN</td>\n      <td>NaN</td>\n      <td>NaN</td>\n      <td>NaN</td>\n      <td>28.291635</td>\n      <td>양호</td>\n    </tr>\n    <tr>\n      <th>9</th>\n      <td>56</td>\n      <td>2</td>\n      <td>0</td>\n      <td>0</td>\n      <td>1</td>\n      <td>0</td>\n      <td>0</td>\n      <td>0</td>\n      <td>0</td>\n      <td>0</td>\n      <td>...</td>\n      <td>NaN</td>\n      <td>NaN</td>\n      <td>NaN</td>\n      <td>NaN</td>\n      <td>NaN</td>\n      <td>NaN</td>\n      <td>NaN</td>\n      <td>NaN</td>\n      <td>27.948725</td>\n      <td>양호</td>\n    </tr>\n    <tr>\n      <th>10</th>\n      <td>65</td>\n      <td>1</td>\n      <td>1</td>\n      <td>0</td>\n      <td>0</td>\n      <td>0</td>\n      <td>0</td>\n      <td>0</td>\n      <td>0</td>\n      <td>0</td>\n      <td>...</td>\n      <td>NaN</td>\n      <td>NaN</td>\n      <td>NaN</td>\n      <td>NaN</td>\n      <td>NaN</td>\n      <td>NaN</td>\n      <td>NaN</td>\n      <td>NaN</td>\n      <td>26.698299</td>\n      <td>허약</td>\n    </tr>\n    <tr>\n      <th>11</th>\n      <td>71</td>\n      <td>1</td>\n      <td>0</td>\n      <td>0</td>\n      <td>0</td>\n      <td>0</td>\n      <td>0</td>\n      <td>0</td>\n      <td>0</td>\n      <td>0</td>\n      <td>...</td>\n      <td>NaN</td>\n      <td>NaN</td>\n      <td>NaN</td>\n      <td>NaN</td>\n      <td>NaN</td>\n      <td>NaN</td>\n      <td>NaN</td>\n      <td>NaN</td>\n      <td>34.346314</td>\n      <td>양호</td>\n    </tr>\n    <tr>\n      <th>12</th>\n      <td>70</td>\n      <td>1</td>\n      <td>0</td>\n      <td>0</td>\n      <td>0</td>\n      <td>0</td>\n      <td>1</td>\n      <td>0</td>\n      <td>0</td>\n      <td>0</td>\n      <td>...</td>\n      <td>NaN</td>\n      <td>NaN</td>\n      <td>NaN</td>\n      <td>NaN</td>\n      <td>NaN</td>\n      <td>NaN</td>\n      <td>NaN</td>\n      <td>NaN</td>\n      <td>40.730789</td>\n      <td>양호</td>\n    </tr>\n    <tr>\n      <th>13</th>\n      <td>76</td>\n      <td>1</td>\n      <td>0</td>\n      <td>0</td>\n      <td>0</td>\n      <td>0</td>\n      <td>1</td>\n      <td>0</td>\n      <td>0</td>\n      <td>0</td>\n      <td>...</td>\n      <td>NaN</td>\n      <td>NaN</td>\n      <td>NaN</td>\n      <td>NaN</td>\n      <td>NaN</td>\n      <td>NaN</td>\n      <td>NaN</td>\n      <td>NaN</td>\n      <td>24.040026</td>\n      <td>허약</td>\n    </tr>\n    <tr>\n      <th>14</th>\n      <td>68</td>\n      <td>1</td>\n      <td>1</td>\n      <td>0</td>\n      <td>0</td>\n      <td>0</td>\n      <td>0</td>\n      <td>1</td>\n      <td>0</td>\n      <td>0</td>\n      <td>...</td>\n      <td>NaN</td>\n      <td>NaN</td>\n      <td>NaN</td>\n      <td>NaN</td>\n      <td>NaN</td>\n      <td>NaN</td>\n      <td>NaN</td>\n      <td>NaN</td>\n      <td>27.845540</td>\n      <td>허약</td>\n    </tr>\n    <tr>\n      <th>15</th>\n      <td>76</td>\n      <td>1</td>\n      <td>1</td>\n      <td>0</td>\n      <td>0</td>\n      <td>0</td>\n      <td>0</td>\n      <td>0</td>\n      <td>0</td>\n      <td>0</td>\n      <td>...</td>\n      <td>NaN</td>\n      <td>NaN</td>\n      <td>NaN</td>\n      <td>NaN</td>\n      <td>NaN</td>\n      <td>NaN</td>\n      <td>NaN</td>\n      <td>NaN</td>\n      <td>28.411169</td>\n      <td>양호</td>\n    </tr>\n    <tr>\n      <th>16</th>\n      <td>70</td>\n      <td>2</td>\n      <td>0</td>\n      <td>1</td>\n      <td>0</td>\n      <td>0</td>\n      <td>1</td>\n      <td>0</td>\n      <td>0</td>\n      <td>0</td>\n      <td>...</td>\n      <td>NaN</td>\n      <td>NaN</td>\n      <td>NaN</td>\n      <td>NaN</td>\n      <td>NaN</td>\n      <td>NaN</td>\n      <td>NaN</td>\n      <td>NaN</td>\n      <td>19.259626</td>\n      <td>양호</td>\n    </tr>\n    <tr>\n      <th>17</th>\n      <td>56</td>\n      <td>2</td>\n      <td>0</td>\n      <td>0</td>\n      <td>1</td>\n      <td>0</td>\n      <td>0</td>\n      <td>0</td>\n      <td>0</td>\n      <td>0</td>\n      <td>...</td>\n      <td>NaN</td>\n      <td>NaN</td>\n      <td>NaN</td>\n      <td>NaN</td>\n      <td>NaN</td>\n      <td>NaN</td>\n      <td>NaN</td>\n      <td>NaN</td>\n      <td>30.651854</td>\n      <td>양호</td>\n    </tr>\n    <tr>\n      <th>18</th>\n      <td>64</td>\n      <td>1</td>\n      <td>1</td>\n      <td>0</td>\n      <td>0</td>\n      <td>0</td>\n      <td>0</td>\n      <td>1</td>\n      <td>0</td>\n      <td>0</td>\n      <td>...</td>\n      <td>NaN</td>\n      <td>NaN</td>\n      <td>NaN</td>\n      <td>NaN</td>\n      <td>NaN</td>\n      <td>NaN</td>\n      <td>NaN</td>\n      <td>NaN</td>\n      <td>37.485535</td>\n      <td>양호</td>\n    </tr>\n    <tr>\n      <th>19</th>\n      <td>72</td>\n      <td>1</td>\n      <td>0</td>\n      <td>0</td>\n      <td>0</td>\n      <td>1</td>\n      <td>0</td>\n      <td>0</td>\n      <td>0</td>\n      <td>0</td>\n      <td>...</td>\n      <td>NaN</td>\n      <td>NaN</td>\n      <td>NaN</td>\n      <td>NaN</td>\n      <td>NaN</td>\n      <td>NaN</td>\n      <td>NaN</td>\n      <td>NaN</td>\n      <td>32.584055</td>\n      <td>양호</td>\n    </tr>\n    <tr>\n      <th>20</th>\n      <td>64</td>\n      <td>2</td>\n      <td>0</td>\n      <td>0</td>\n      <td>0</td>\n      <td>0</td>\n      <td>1</td>\n      <td>0</td>\n      <td>0</td>\n      <td>0</td>\n      <td>...</td>\n      <td>NaN</td>\n      <td>NaN</td>\n      <td>NaN</td>\n      <td>NaN</td>\n      <td>NaN</td>\n      <td>NaN</td>\n      <td>NaN</td>\n      <td>NaN</td>\n      <td>20.637507</td>\n      <td>양호</td>\n    </tr>\n    <tr>\n      <th>21</th>\n      <td>66</td>\n      <td>1</td>\n      <td>0</td>\n      <td>0</td>\n      <td>0</td>\n      <td>0</td>\n      <td>0</td>\n      <td>1</td>\n      <td>0</td>\n      <td>0</td>\n      <td>...</td>\n      <td>NaN</td>\n      <td>NaN</td>\n      <td>NaN</td>\n      <td>NaN</td>\n      <td>NaN</td>\n      <td>NaN</td>\n      <td>NaN</td>\n      <td>NaN</td>\n      <td>26.698299</td>\n      <td>허약</td>\n    </tr>\n    <tr>\n      <th>22</th>\n      <td>73</td>\n      <td>1</td>\n      <td>0</td>\n      <td>0</td>\n      <td>0</td>\n      <td>1</td>\n      <td>0</td>\n      <td>0</td>\n      <td>0</td>\n      <td>0</td>\n      <td>...</td>\n      <td>NaN</td>\n      <td>NaN</td>\n      <td>NaN</td>\n      <td>NaN</td>\n      <td>NaN</td>\n      <td>NaN</td>\n      <td>NaN</td>\n      <td>NaN</td>\n      <td>35.882216</td>\n      <td>양호</td>\n    </tr>\n    <tr>\n      <th>23</th>\n      <td>61</td>\n      <td>2</td>\n      <td>0</td>\n      <td>0</td>\n      <td>1</td>\n      <td>0</td>\n      <td>0</td>\n      <td>0</td>\n      <td>0</td>\n      <td>0</td>\n      <td>...</td>\n      <td>NaN</td>\n      <td>NaN</td>\n      <td>NaN</td>\n      <td>NaN</td>\n      <td>NaN</td>\n      <td>NaN</td>\n      <td>NaN</td>\n      <td>NaN</td>\n      <td>30.651854</td>\n      <td>양호</td>\n    </tr>\n    <tr>\n      <th>24</th>\n      <td>59</td>\n      <td>2</td>\n      <td>0</td>\n      <td>0</td>\n      <td>0</td>\n      <td>0</td>\n      <td>1</td>\n      <td>0</td>\n      <td>0</td>\n      <td>0</td>\n      <td>...</td>\n      <td>NaN</td>\n      <td>NaN</td>\n      <td>NaN</td>\n      <td>NaN</td>\n      <td>NaN</td>\n      <td>NaN</td>\n      <td>NaN</td>\n      <td>NaN</td>\n      <td>23.262774</td>\n      <td>양호</td>\n    </tr>\n  </tbody>\n</table>\n<p>29 rows × 118 columns</p>\n</div>"
     },
     "execution_count": 13,
     "metadata": {},
     "output_type": "execute_result"
    }
   ],
   "source": [
    "#15. 새로운 데이터의 결과값 예측(가장 마지막 컬럼인 new_label)\n",
    "new_load"
   ],
   "metadata": {
    "collapsed": false,
    "pycharm": {
     "name": "#%%\n"
    }
   }
  },
  {
   "cell_type": "code",
   "execution_count": null,
   "outputs": [],
   "source": [],
   "metadata": {
    "collapsed": false,
    "pycharm": {
     "name": "#%%\n"
    }
   }
  }
 ],
 "metadata": {
  "kernelspec": {
   "display_name": "Python 3 (ipykernel)",
   "language": "python",
   "name": "python3"
  },
  "language_info": {
   "codemirror_mode": {
    "name": "ipython",
    "version": 3
   },
   "file_extension": ".py",
   "mimetype": "text/x-python",
   "name": "python",
   "nbconvert_exporter": "python",
   "pygments_lexer": "ipython3",
   "version": "3.8.13"
  }
 },
 "nbformat": 4,
 "nbformat_minor": 1
}